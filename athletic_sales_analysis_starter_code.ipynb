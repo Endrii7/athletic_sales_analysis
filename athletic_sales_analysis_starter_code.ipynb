{
 "cells": [
  {
   "cell_type": "code",
   "execution_count": 1,
   "metadata": {},
   "outputs": [],
   "source": [
    "# Import Libraries and Dependencies\n",
    "import pandas as pd"
   ]
  },
  {
   "cell_type": "markdown",
   "metadata": {},
   "source": [
    "### 1. Combine and Clean the Data\n",
    "#### Import CSVs"
   ]
  },
  {
   "cell_type": "code",
   "execution_count": 2,
   "metadata": {},
   "outputs": [],
   "source": [
    "# Read the CSV files into DataFrames.\n",
    "url_2020 = 'https://github.com/Endrii7/athletic_sales_analysis/blob/main/athletic_sales_2020.csv'\n",
    "url_2021 = 'https://github.com/Endrii7/athletic_sales_analysis/blob/main/athletic_sales_2021.csv'\n",
    "sales_2020_df = pd.read_csv(url_2020)\n",
    "sales_2021_df = pd.read_csv(url_2021)\n"
   ]
  },
  {
   "cell_type": "code",
   "execution_count": 3,
   "metadata": {},
   "outputs": [],
   "source": [
    "# Display the 2020 sales DataFrame\n",
    "athletic_sales_2020.head()\n"
   ]
  },
  {
   "cell_type": "code",
   "execution_count": 4,
   "metadata": {},
   "outputs": [],
   "source": [
    "# Display the 2021 sales DataFrame\n",
    "athletic_sales_2021.head()\n"
   ]
  },
  {
   "cell_type": "markdown",
   "metadata": {},
   "source": [
    "#### Check the data types of each DataFrame"
   ]
  },
  {
   "cell_type": "code",
   "execution_count": 5,
   "metadata": {},
   "outputs": [],
   "source": [
    "# Check the 2020 sales data types.\n",
    "athletic_sales_2020.dtypes"
   ]
  },
  {
   "cell_type": "code",
   "execution_count": 6,
   "metadata": {},
   "outputs": [],
   "source": [
    "# Check the 2021 sales data types.\n",
    "athletic_sales_2021.dtypes"
   ]
  },
  {
   "cell_type": "markdown",
   "metadata": {},
   "source": [
    "#### Combine the sales data by rows."
   ]
  },
  {
   "cell_type": "code",
   "execution_count": 7,
   "metadata": {},
   "outputs": [],
   "source": [
    "# Combine the 2020 and 2021 sales DataFrames on the rows and reset the index.\n",
    "combined_sales_df = pd.concat([athletic_sales_2020, athletic_sales_2021], axis=0).reset_index(drop=True)\n",
    "combined_sales_df.head()"
   ]
  },
  {
   "cell_type": "code",
   "execution_count": 8,
   "metadata": {},
   "outputs": [],
   "source": [
    "# Check if any values are null.\n",
    "null_values = combined_sales_df.isnull().sum()\n",
    "null_values\n"
   ]
  },
  {
   "cell_type": "code",
   "execution_count": 9,
   "metadata": {},
   "outputs": [],
   "source": [
    "# Check the data type of each column\n",
    "combined_sales_df.dtypes"
   ]
  },
  {
   "cell_type": "code",
   "execution_count": 10,
   "metadata": {},
   "outputs": [],
   "source": [
    "# Convert the \"invoice_date\" to a datetime datatype\n",
    "combined_sales_df['invoice_date'] = pd.to_datetime(combined_sales_df['invoice_date'])\n"
   ]
  },
  {
   "cell_type": "code",
   "execution_count": 11,
   "metadata": {},
   "outputs": [],
   "source": [
    "# Confirm that the \"invoice_date\" data type has been changed.\n"
   ]
  },
  {
   "cell_type": "markdown",
   "metadata": {},
   "source": [
    "### 2. Determine which Region Sold the Most Products"
   ]
  },
  {
   "cell_type": "markdown",
   "metadata": {},
   "source": [
    "#### Using `groupby`"
   ]
  },
  {
   "cell_type": "code",
   "execution_count": 12,
   "metadata": {},
   "outputs": [],
   "source": [
    "# Show the number products sold for region, state, and city.\n",
    "# Rename the sum to \"Total_Products_Sold\".\n",
    "total_products_sold = combined_sales_df.groupby(['region', 'state', 'city'])['units_sold'].sum().rename('Total_Products_Sold').reset_index()\n",
    "\n",
    "\n",
    "\n",
    "\n",
    "# Show the top 5 results.\n",
    "top_5_total_products_sold = total_products_sold.sort_values(by='Total_Products_Sold', ascending=False).head(5)\n",
    "top_5_total_products_sold\n",
    "                           "
   ]
  },
  {
   "cell_type": "markdown",
   "metadata": {},
   "source": [
    "#### Using `pivot_table`"
   ]
  },
  {
   "cell_type": "code",
   "execution_count": 13,
   "metadata": {},
   "outputs": [],
   "source": [
    "# Show the number products sold for region, state, and city.\n",
    "pivot_total_products_sold = combined_sales_df.pivot_table(index=['region', 'state', 'city'], \n",
    "                                                          values='units_sold', \n",
    "                                                          aggfunc='sum').rename(columns={'units_sold': 'Total_Products_Sold'})\n",
    "\n",
    "# Show the top 5 results.\n",
    "top_5_pivot_total_products_sold = pivot_total_products_sold.sort_values(by='Total_Products_Sold', ascending=False).head(5)\n",
    "top_5_pivot_total_products_sold"
   ]
  },
  {
   "cell_type": "markdown",
   "metadata": {},
   "source": [
    "### 3. Determine which Region had the Most Sales"
   ]
  },
  {
   "cell_type": "markdown",
   "metadata": {},
   "source": [
    "#### Using `groupby`"
   ]
  },
  {
   "cell_type": "code",
   "execution_count": 14,
   "metadata": {},
   "outputs": [],
   "source": [
    "# Show the total sales for the products sold for each region, state, and city.\n",
    "# Rename the \"total_sales\" column to \"Total Sales\"\n",
    "grouped_total_sales = combined_sales_df.groupby(['region', 'state', 'city'])['total_sales'].sum().reset_index()\n",
    "grouped_total_sales = grouped_total_sales.rename(columns={'total_sales': 'Total Sales'})\n",
    "\n",
    "\n",
    "# Show the top 5 results.\n",
    "top_5_grouped_total_sales = grouped_total_sales.sort_values(by='Total Sales', ascending=False).head(5)\n",
    "top_5_grouped_total_sales\n"
   ]
  },
  {
   "cell_type": "markdown",
   "metadata": {},
   "source": [
    "#### Using `pivot_table`"
   ]
  },
  {
   "cell_type": "code",
   "execution_count": 15,
   "metadata": {},
   "outputs": [],
   "source": [
    "# Show the total sales for the products sold for each region, state, and city.\n",
    "pivot_total_sales = combined_sales_df.pivot_table(index=['region', 'state', 'city'], \n",
    "                                                  values='total_sales', \n",
    "                                                  aggfunc='sum').rename(columns={'total_sales': 'Total Sales'})\n",
    "# Show the top 5 results.\n",
    "top_5_pivot_total_sales = pivot_total_sales.sort_values(by='Total Sales', ascending=False).head(5)\n",
    "top_5_pivot_total_sales"
   ]
  },
  {
   "cell_type": "markdown",
   "metadata": {
    "jp-MarkdownHeadingCollapsed": true,
    "tags": []
   },
   "source": [
    "### 4. Determine which Retailer had the Most Sales"
   ]
  },
  {
   "cell_type": "markdown",
   "metadata": {},
   "source": [
    "#### Using `groupby`"
   ]
  },
  {
   "cell_type": "code",
   "execution_count": 16,
   "metadata": {},
   "outputs": [],
   "source": [
    "# Show the total sales for the products sold for each retailer, region, state, and city.\n",
    "# Rename the \"total_sales\" column to \"Total Sales\"\n",
    "grouped_retailer_total_sales = combined_sales_df.groupby(['retailer', 'region', 'state', 'city'])['total_sales'].sum().reset_index()\n",
    "grouped_retailer_total_sales = grouped_retailer_total_sales.rename(columns={'total_sales': 'Total Sales'})\n",
    "\n",
    "# Show the top 5 results.\n",
    "top_5_grouped_retailer_total_sales = grouped_retailer_total_sales.sort_values(by='Total Sales', ascending=False).head(5)\n",
    "top_5_grouped_retailer_total_sales"
   ]
  },
  {
   "cell_type": "markdown",
   "metadata": {},
   "source": [
    "#### Using `pivot_table`"
   ]
  },
  {
   "cell_type": "code",
   "execution_count": 17,
   "metadata": {},
   "outputs": [],
   "source": [
    "# Show the total sales for the products sold for each retailer, region, state, and city.\n",
    "pivot_retailer_total_sales = combined_sales_df.pivot_table(index=['retailer', 'region', 'state', 'city'], \n",
    "                                                           values='total_sales', \n",
    "                                                           aggfunc='sum').rename(columns={'total_sales': 'Total Sales'})\n",
    "# Show the top 5 results.\n",
    "top_5_pivot_retailer_total_sales = pivot_retailer_total_sales.sort_values(by='Total Sales', ascending=False).head(5)\n",
    "top_5_pivot_retailer_total_sales"
   ]
  },
  {
   "cell_type": "markdown",
   "metadata": {},
   "source": [
    "### 5. Determine which Retailer Sold the Most Women's Athletic Footwear"
   ]
  },
  {
   "cell_type": "code",
   "execution_count": 18,
   "metadata": {},
   "outputs": [],
   "source": [
    "# Filter the sales data to get the women's athletic footwear sales data.\n",
    "womens_footwear_sales_data = combined_sales_df[combined_sales_df['product'] == \"Women's Athletic Footwear\"]\n",
    "womens_footwear_sales_data.head()"
   ]
  },
  {
   "cell_type": "markdown",
   "metadata": {},
   "source": [
    "#### Using `groupby`"
   ]
  },
  {
   "cell_type": "code",
   "execution_count": 19,
   "metadata": {},
   "outputs": [],
   "source": [
    "# Show the total number of women's athletic footwear sold for each retailer, region, state, and city.\n",
    "# Rename the \"units_sold\" column to \"Womens_Footwear_Units_Sold\"\n",
    "grouped_womens_footwear_sales = womens_footwear_sales_data.groupby(['retailer', 'region', 'state', 'city'])['units_sold'].sum().reset_index()\n",
    "grouped_womens_footwear_sales = grouped_womens_footwear_sales.rename(columns={'units_sold': 'Womens_Footwear_Units_Sold'})\n",
    "# Show the top 5 results.\n",
    "top_5_grouped_womens_footwear_sales = grouped_womens_footwear_sales.sort_values(by='Womens_Footwear_Units_Sold', ascending=False).head(5)\n",
    "top_5_grouped_womens_footwear_sales"
   ]
  },
  {
   "cell_type": "markdown",
   "metadata": {},
   "source": [
    "#### Using `pivot_table`"
   ]
  },
  {
   "cell_type": "code",
   "execution_count": 20,
   "metadata": {},
   "outputs": [],
   "source": [
    "# Show the total number of women's athletic footwear sold for each retailer, region, state, and city.\n",
    "pivot_womens_footwear_sales = womens_footwear_sales_data.pivot_table(index=['retailer', 'region', 'state', 'city'], \n",
    "                                                                     values='units_sold', \n",
    "                                                                     aggfunc='sum').rename(columns={'units_sold': 'Womens_Footwear_Units_Sold'})\n",
    "\n",
    "# Show the top 5 results.\n",
    "top_5_pivot_womens_footwear_sales = pivot_womens_footwear_sales.sort_values(by='Womens_Footwear_Units_Sold', ascending=False).head(5)\n",
    "top_5_pivot_womens_footwear_sales"
   ]
  },
  {
   "cell_type": "markdown",
   "metadata": {},
   "source": [
    "### 5. Determine the Day with the Most Women's Athletic Footwear Sales"
   ]
  },
  {
   "cell_type": "code",
   "execution_count": 21,
   "metadata": {},
   "outputs": [],
   "source": [
    "# Create a pivot table with the 'invoice_date' column is the index, and the \"total_sales\" as the values.\n",
    "\n",
    "pivot_sales_by_date = combined_sales_df.pivot_table(index='invoice_date', \n",
    "                                                    values='total_sales', \n",
    "                                                    aggfunc='sum').rename(columns={'total_sales': 'Total Sales'})\n",
    "\n",
    "pivot_sales_by_date.head()\n",
    "\n",
    "\n",
    "\n"
   ]
  },
  {
   "cell_type": "code",
   "execution_count": 22,
   "metadata": {},
   "outputs": [],
   "source": [
    "# Resample the pivot table into daily bins, and get the total sales for each day.\n",
    "daily_sales_resampled = pivot_sales_by_date.resample('D').sum()\n",
    "\n",
    "# Sort the resampled pivot table in ascending order on \"Total Sales\".\n"
   ]
  },
  {
   "cell_type": "markdown",
   "metadata": {},
   "source": [
    "### 6.  Determine the Week with the Most Women's Athletic Footwear Sales"
   ]
  },
  {
   "cell_type": "code",
   "execution_count": 23,
   "metadata": {},
   "outputs": [],
   "source": [
    "# Resample the pivot table into weekly bins, and get the total sales for each week.\n",
    "\n",
    "daily_sales_sorted = daily_sales_resampled.sort_values(by='Total Sales', ascending=True)\n",
    "daily_sales_sorted.head()\n",
    "\n",
    "# Sort the resampled pivot table in ascending order on \"Total Sales\".\n"
   ]
  },
  {
   "cell_type": "code",
   "execution_count": null,
   "metadata": {},
   "outputs": [],
   "source": []
  }
 ],
 "metadata": {
  "kernelspec": {
   "display_name": "Python 3 (ipykernel)",
   "language": "python",
   "name": "python3"
  },
  "language_info": {
   "codemirror_mode": {
    "name": "ipython",
    "version": 3
   },
   "file_extension": ".py",
   "mimetype": "text/x-python",
   "name": "python",
   "nbconvert_exporter": "python",
   "pygments_lexer": "ipython3",
   "version": "3.10.12"
  }
 },
 "nbformat": 4,
 "nbformat_minor": 4
}
